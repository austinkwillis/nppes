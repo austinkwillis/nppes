{
 "cells": [
  {
   "cell_type": "markdown",
   "metadata": {},
   "source": [
    "**Initial Configuration**"
   ]
  },
  {
   "cell_type": "code",
   "execution_count": 2,
   "metadata": {},
   "outputs": [],
   "source": [
    "import sys\n",
    "sys.path.append('..')"
   ]
  },
  {
   "cell_type": "code",
   "execution_count": 3,
   "metadata": {},
   "outputs": [],
   "source": [
    "import nppes"
   ]
  },
  {
   "cell_type": "markdown",
   "metadata": {},
   "source": [
    "**Begin Notebook Code**"
   ]
  },
  {
   "cell_type": "markdown",
   "metadata": {},
   "source": [
    "# Get data from API"
   ]
  },
  {
   "cell_type": "code",
   "execution_count": 9,
   "metadata": {},
   "outputs": [],
   "source": [
    "import requests"
   ]
  },
  {
   "cell_type": "code",
   "execution_count": 6,
   "metadata": {},
   "outputs": [],
   "source": [
    "API_columns = [\n",
    "    'number',\n",
    "    'enumeration_type',\n",
    "    'taxonomy_description',\n",
    "    'first_name',\n",
    "    'last_name',\n",
    "    'organization_name',\n",
    "    'address_purpose',\n",
    "    'city',\n",
    "    'state',\n",
    "    'postal_code',\n",
    "    'country_code',\n",
    "    'limit',\n",
    "    'skip',\n",
    "    'pretty'\n",
    "    ]"
   ]
  },
  {
   "cell_type": "code",
   "execution_count": 17,
   "metadata": {},
   "outputs": [
    {
     "name": "stdout",
     "output_type": "stream",
     "text": [
      "https://npiregistry.cms.hhs.gov/api/?version=2.0&last_name=Gomez&first_name=Julia\n"
     ]
    }
   ],
   "source": [
    "payload = {'version': '2.1', 'last_name': 'Gomez', 'first_name': 'Julia'}\n",
    "r = requests.get('https://npiregistry.cms.hhs.gov/api/?', params=payload)\n",
    "\n",
    "print(r.url)"
   ]
  },
  {
   "cell_type": "code",
   "execution_count": 18,
   "metadata": {},
   "outputs": [
    {
     "data": {
      "text/plain": [
       "b'{\"result_count\":3, \"results\":[{\"enumeration_type\": \"NPI-1\", \"number\": 1174576599, \"last_updated_epoch\": 1259712000, \"created_epoch\": 1147910400, \"basic\": {\"name_prefix\": \"DR.\", \"first_name\": \"JULIA\", \"last_name\": \"GOMEZ\", \"middle_name\": \"E\", \"credential\": \"M.D.\", \"sole_proprietor\": \"NO\", \"gender\": \"F\", \"enumeration_date\": \"2006-05-18\", \"last_updated\": \"2009-12-02\", \"status\": \"A\", \"name\": \"GOMEZ JULIA\"}, \"other_names\": [], \"addresses\": [{\"country_code\": \"US\", \"country_name\": \"United States\", \"address_purpose\": \"LOCATION\", \"address_type\": \"DOM\", \"address_1\": \"2400 PATTERSON ST\", \"address_2\": \"500\", \"city\": \"NASHVILLE\", \"state\": \"TN\", \"postal_code\": \"372031562\", \"telephone_number\": \"615-327-7400\", \"fax_number\": \"615-327-4818\"}, {\"country_code\": \"US\", \"country_name\": \"United States\", \"address_purpose\": \"MAILING\", \"address_type\": \"DOM\", \"address_1\": \"2400 PATTERSON ST\", \"address_2\": \"500\", \"city\": \"NASHVILLE\", \"state\": \"TN\", \"postal_code\": \"372031562\", \"telephone_number\": \"615-327-7400\", \"fax_number\": \"615-327-4818\"}], \"taxonomies\": [{\"code\": \"207Q00000X\", \"desc\": \"Family Medicine\", \"primary\": true, \"state\": \"TN\", \"license\": \"45402\"}], \"identifiers\": [{\"identifier\": \"1514973\", \"code\": \"05\", \"desc\": \"MEDICAID\", \"state\": \"TN\", \"issuer\": \"\"}, {\"identifier\": \"1514973\", \"code\": \"01\", \"desc\": \"Other\", \"state\": \"TN\", \"issuer\": \"MEDICAID MCC TEMP#\"}, {\"identifier\": \"00A663970\", \"code\": \"05\", \"desc\": \"MEDICAID\", \"state\": \"CA\", \"issuer\": \"\"}, {\"identifier\": \"P00760855\", \"code\": \"01\", \"desc\": \"Other\", \"state\": \"TN\", \"issuer\": \"RR MEDICARE\"}]},{\"enumeration_type\": \"NPI-1\", \"number\": 1164660098, \"last_updated_epoch\": 1368403200, \"created_epoch\": 1233273600, \"basic\": {\"name_prefix\": \"MS.\", \"first_name\": \"JULIA\", \"last_name\": \"GOMEZ\", \"middle_name\": \"ELIZABETH\", \"sole_proprietor\": \"NO\", \"gender\": \"F\", \"enumeration_date\": \"2009-01-30\", \"last_updated\": \"2013-05-13\", \"status\": \"A\", \"name\": \"GOMEZ JULIA\"}, \"other_names\": [], \"addresses\": [{\"country_code\": \"US\", \"country_name\": \"United States\", \"address_purpose\": \"LOCATION\", \"address_type\": \"DOM\", \"address_1\": \"620 E CHEVY CHASE DR\", \"address_2\": \"\", \"city\": \"GLENDALE\", \"state\": \"CA\", \"postal_code\": \"912053014\", \"telephone_number\": \"818-207-4893\"}, {\"country_code\": \"US\", \"country_name\": \"United States\", \"address_purpose\": \"MAILING\", \"address_type\": \"DOM\", \"address_1\": \"620 E CHEVY CHASE DR\", \"address_2\": \"\", \"city\": \"GLENDALE\", \"state\": \"CA\", \"postal_code\": \"912053014\", \"telephone_number\": \"213-213-5000\"}], \"taxonomies\": [{\"code\": \"225400000X\", \"desc\": \"Rehabilitation Practitioner\", \"primary\": true, \"state\": \"\", \"license\": \"\"}], \"identifiers\": []},{\"enumeration_type\": \"NPI-1\", \"number\": 1184125247, \"last_updated_epoch\": 1519404001, \"created_epoch\": 1519344000, \"basic\": {\"first_name\": \"JULIA\", \"last_name\": \"GOMEZ\", \"sole_proprietor\": \"YES\", \"gender\": \"F\", \"enumeration_date\": \"2018-02-23\", \"last_updated\": \"2018-02-23\", \"status\": \"A\", \"name\": \"GOMEZ JULIA\"}, \"other_names\": [], \"addresses\": [{\"country_code\": \"US\", \"country_name\": \"United States\", \"address_purpose\": \"LOCATION\", \"address_type\": \"DOM\", \"address_1\": \"2930 INLAND EMPIRE BLVD STE 101\", \"address_2\": \"\", \"city\": \"ONTARIO\", \"state\": \"CA\", \"postal_code\": \"917644802\", \"telephone_number\": \"909-483-5000\"}, {\"country_code\": \"US\", \"country_name\": \"United States\", \"address_purpose\": \"MAILING\", \"address_type\": \"DOM\", \"address_1\": \"2930 INLAND EMPIRE BLVD STE 101\", \"address_2\": \"\", \"city\": \"ONTARIO\", \"state\": \"CA\", \"postal_code\": \"917644802\"}], \"taxonomies\": [{\"code\": \"106S00000X\", \"desc\": \"Behavior Technician\", \"primary\": true, \"state\": \"\", \"license\": \"\"}], \"identifiers\": []}]}'"
      ]
     },
     "execution_count": 18,
     "metadata": {},
     "output_type": "execute_result"
    }
   ],
   "source": [
    "r.content"
   ]
  },
  {
   "cell_type": "code",
   "execution_count": null,
   "metadata": {},
   "outputs": [],
   "source": [
    "def search_nppes():\n",
    "    "
   ]
  }
 ],
 "metadata": {
  "kernelspec": {
   "display_name": "Python 3",
   "language": "python",
   "name": "python3"
  },
  "language_info": {
   "codemirror_mode": {
    "name": "ipython",
    "version": 3
   },
   "file_extension": ".py",
   "mimetype": "text/x-python",
   "name": "python",
   "nbconvert_exporter": "python",
   "pygments_lexer": "ipython3",
   "version": "3.8.2"
  }
 },
 "nbformat": 4,
 "nbformat_minor": 4
}
